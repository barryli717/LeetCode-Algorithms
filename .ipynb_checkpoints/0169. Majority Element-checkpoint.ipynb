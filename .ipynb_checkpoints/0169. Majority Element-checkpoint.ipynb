{
 "cells": [
  {
   "cell_type": "markdown",
   "metadata": {},
   "source": [
    "# Problem\n",
    "\n",
    "Given an array of size n, find the majority element. The majority element is the element that appears more than ⌊ n/2 ⌋ times.\n",
    "\n",
    "You may assume that the array is non-empty and the majority element always exist in the array.\n",
    "\n",
    "# Example\n",
    "\n",
    "**Example 1:**\n",
    "```\n",
    "Input: [3,2,3]\n",
    "Output: 3\n",
    "```\n",
    "\n",
    "**Example 2:**\n",
    "```\n",
    "Input: [2,2,1,1,1,2,2]\n",
    "Output: 2\n",
    "```"
   ]
  },
  {
   "cell_type": "code",
   "execution_count": 1,
   "metadata": {},
   "outputs": [],
   "source": [
    "import collections\n",
    "\n",
    "def majorityElement(nums):\n",
    "    counts = collections.Counter(nums)\n",
    "    return max(counts, key=counts.get)"
   ]
  },
  {
   "cell_type": "markdown",
   "metadata": {},
   "source": [
    "# Hash table\n",
    "\n",
    "- Use hash table to store elements, and count the times of occurrence of each elements in linear time;\n",
    "\n",
    "- Return the elements with maximum value;\n",
    "\n",
    "- Time complexity: $O(n)$;\n",
    "\n",
    "- Space complexity: $O(n)$;"
   ]
  },
  {
   "cell_type": "markdown",
   "metadata": {},
   "source": [
    "# Additional Knowledge\n",
    "\n",
    "- `collections.Counter()` can generate a hash table of elements and their occurrence, for example, for array `[3,2,3]`, it will generate a dictionary `{3: 2, 2: 1}`;\n",
    "\n",
    "- If we want to get the key with the maximum value, the simplest way is `max(dict.keys(), key = dict.get)` or simply `max(dict, key = dict.get)`;"
   ]
  },
  {
   "cell_type": "code",
   "execution_count": 2,
   "metadata": {},
   "outputs": [],
   "source": [
    "def majorityElement(nums):\n",
    "    nums.sort()\n",
    "    return nums[len(nums)//2]"
   ]
  },
  {
   "cell_type": "markdown",
   "metadata": {},
   "source": [
    "# Sorting\n",
    "\n",
    "- If there exists a majority element which occurs more than $\\lfloor \\frac{n}{2} \\rfloor$, it must occupies the $\\lfloor \\frac{n}{2} \\rfloor$-th element in the sorted array;\n",
    "\n",
    "- Time complexity: $O(\\log n)$, the majority of running time is on sorting the array;\n",
    "\n",
    "- Space complexity: $O(1)$ or $O(n)$, depends on whether we need extra space to store the sorted array;"
   ]
  },
  {
   "cell_type": "code",
   "execution_count": 3,
   "metadata": {},
   "outputs": [],
   "source": [
    "import random\n",
    "\n",
    "def majorityElement(nums):\n",
    "    majority_count = len(nums)//2\n",
    "    while True:\n",
    "        candidate = random.choice(nums)\n",
    "        if sum(1 for elem in nums if elem == candidate) > majority_count:\n",
    "            return candidate"
   ]
  },
  {
   "cell_type": "markdown",
   "metadata": {},
   "source": [
    "# Randomized algorithm\n",
    "\n",
    "- For a randomly given element of the array, it's very likely to be the majority number;\n",
    "\n",
    "- Thus we randomly choose a index `i` in array, and test if `A[i]` is the majority number;\n",
    "\n",
    "- If it is, return this element, otherwise keep randomly choosing a index;\n",
    "\n",
    "- Time complexity: $O(n)$, which is the expected running time;\n",
    "\n",
    "- Space complexity: $O(1)$;"
   ]
  },
  {
   "cell_type": "code",
   "execution_count": 4,
   "metadata": {},
   "outputs": [],
   "source": [
    "def majorityElement(nums):\n",
    "    count = 0\n",
    "    candidate = None\n",
    "\n",
    "    for num in nums:\n",
    "        if count == 0:\n",
    "            candidate = num\n",
    "        count += (1 if num == candidate else -1)\n",
    "\n",
    "    return candidate"
   ]
  },
  {
   "cell_type": "markdown",
   "metadata": {},
   "source": [
    "# Boyer-Moore majority vote algorithm\n",
    "\n",
    "- If we denete the majority number as $+1$, and other numbers as $-1$, add all the elements up, the result would be greater than $0$;\n",
    "\n",
    "- Set the first element as the candidate of the majority number and `count = 0`, if we encounter the candidate number, `count += 1`, otherwise `counter += -1`;\n",
    "\n",
    "- If `count == 0`, 'forget' all the previous elements, and set the next element as the candidate of majority number;\n",
    "\n",
    "- Return the `candidate` in the last;\n",
    "\n",
    "- Time complexity: $O(n)$;\n",
    "\n",
    "- Space complexity: $O(1)$;"
   ]
  },
  {
   "cell_type": "code",
   "execution_count": null,
   "metadata": {},
   "outputs": [],
   "source": [
    "def majorityElement(nums, lo=0, hi=None):\n",
    "    def majority_element_rec(lo, hi):\n",
    "        # base case; the only element in an array of size 1 is the majority\n",
    "        # element.\n",
    "        if lo == hi:\n",
    "            return nums[lo]\n",
    "\n",
    "        # recurse on left and right halves of this slice.\n",
    "        mid = (hi-lo)//2 + lo\n",
    "        left = majority_element_rec(lo, mid)\n",
    "        right = majority_element_rec(mid+1, hi)\n",
    "\n",
    "        # if the two halves agree on the majority element, return it.\n",
    "        if left == right:\n",
    "            return left\n",
    "\n",
    "        # otherwise, count each element and return the \"winner\".\n",
    "        left_count = sum(1 for i in range(lo, hi+1) if nums[i] == left)\n",
    "        right_count = sum(1 for i in range(lo, hi+1) if nums[i] == right)\n",
    "\n",
    "        return left if left_count > right_count else right\n",
    "\n",
    "    return majority_element_rec(0, len(nums)-1)"
   ]
  }
 ],
 "metadata": {
  "kernelspec": {
   "display_name": "Python 3",
   "language": "python",
   "name": "python3"
  },
  "language_info": {
   "codemirror_mode": {
    "name": "ipython",
    "version": 3
   },
   "file_extension": ".py",
   "mimetype": "text/x-python",
   "name": "python",
   "nbconvert_exporter": "python",
   "pygments_lexer": "ipython3",
   "version": "3.7.5"
  }
 },
 "nbformat": 4,
 "nbformat_minor": 4
}
