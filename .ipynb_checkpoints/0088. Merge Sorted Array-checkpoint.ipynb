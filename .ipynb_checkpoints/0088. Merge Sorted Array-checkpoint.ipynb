{
 "cells": [
  {
   "cell_type": "markdown",
   "metadata": {},
   "source": [
    "## Problem\n",
    "\n",
    "> Given two sorted integer arrays nums1 and nums2, merge nums2 into nums1 as one sorted array.\n",
    ">\n",
    "> Note:\n",
    ">\n",
    "> The number of elements initialized in nums1 and nums2 are m and n respectively.\n",
    "> You may assume that nums1 has enough space (size that is greater or equal to m + n) to hold additional elements from nums2.\n",
    "\n",
    "**Example:**\n",
    "```\n",
    "Input:\n",
    "nums1 = [1,2,3,0,0,0], m = 3\n",
    "nums2 = [2,5,6],       n = 3\n",
    "\n",
    "Output: [1,2,2,3,5,6]\n",
    "```"
   ]
  },
  {
   "cell_type": "code",
   "execution_count": 1,
   "metadata": {},
   "outputs": [],
   "source": [
    "def merge(nums1, m, nums2, n):\n",
    "    nums1[:m]=nums[n:]\n",
    "    nums1.sort()"
   ]
  },
  {
   "cell_type": "markdown",
   "metadata": {},
   "source": [
    "## Summary\n",
    "\n",
    "- This is a brute force method, since it didn't consider that `nums1` and `nums2` are sorted array. \n",
    "\n",
    "- The running time is $O((m+n)\\log(m+n))$"
   ]
  },
  {
   "cell_type": "code",
   "execution_count": 2,
   "metadata": {},
   "outputs": [],
   "source": [
    "def merge(self, nums1, m, nums2, n):\n",
    "    # two get pointers for nums1 and nums2\n",
    "    p1 = m - 1\n",
    "    p2 = n - 1\n",
    "    # set pointer for nums1\n",
    "    p = m + n - 1\n",
    "\n",
    "    # while there are still elements to compare\n",
    "    while p1 >= 0 and p2 >= 0:\n",
    "        if nums1[p1] < nums2[p2]:\n",
    "            nums1[p] = nums2[p2]\n",
    "            p2 -= 1\n",
    "        else:\n",
    "            nums1[p] =  nums1[p1]\n",
    "            p1 -= 1\n",
    "        p -= 1\n",
    "\n",
    "    # add missing elements from nums2\n",
    "    nums1[:p2 + 1] = nums2[:p2 + 1]"
   ]
  },
  {
   "cell_type": "markdown",
   "metadata": {},
   "source": [
    "## Summary\n",
    "\n",
    "- This algorithm uses two pointers `p1` `p2` to compare every value in `nums1` and `nums2` form back to front, and store the larger one to the end of `nums1` with another pointer `p`.\n",
    "\n",
    "- The running time of this algorithm is $O(m+n)$ and the space complexity is $O(1)$."
   ]
  },
  {
   "cell_type": "code",
   "execution_count": null,
   "metadata": {},
   "outputs": [],
   "source": []
  }
 ],
 "metadata": {
  "kernelspec": {
   "display_name": "Python 3",
   "language": "python",
   "name": "python3"
  },
  "language_info": {
   "codemirror_mode": {
    "name": "ipython",
    "version": 3
   },
   "file_extension": ".py",
   "mimetype": "text/x-python",
   "name": "python",
   "nbconvert_exporter": "python",
   "pygments_lexer": "ipython3",
   "version": "3.7.4"
  }
 },
 "nbformat": 4,
 "nbformat_minor": 2
}
