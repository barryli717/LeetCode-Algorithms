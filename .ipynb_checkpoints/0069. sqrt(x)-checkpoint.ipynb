{
 "cells": [
  {
   "cell_type": "markdown",
   "metadata": {},
   "source": [
    "# Problem\n",
    "> Implement int sqrt(int x).\n",
    ">\n",
    "> Compute and return the square root of x, where x is guaranteed to be a non-negative integer.\n",
    ">\n",
    "> Since the return type is an integer, the decimal digits are truncated and only the integer part of the result is returned.\n",
    "\n",
    "# Example\n",
    "\n",
    "**Example 1:**\n",
    "```\n",
    "Input: 4\n",
    "Output: 2\n",
    "```\n",
    "**Example 2:**\n",
    "```\n",
    "Input: 8\n",
    "Output: 2\n",
    "Explanation: The square root of 8 is 2.82842..., and since \n",
    "             the decimal part is truncated, 2 is returned.\n",
    "```"
   ]
  },
  {
   "cell_type": "code",
   "execution_count": 1,
   "metadata": {},
   "outputs": [],
   "source": [
    "def mySqrt(x):\n",
    "    left = 0\n",
    "    right = x // 2 + 1\n",
    "    while left < right:\n",
    "        mid = left + (right - left + 1) // 2\n",
    "        square = mid * mid\n",
    "\n",
    "        if square > x:\n",
    "            right = mid - 1\n",
    "        else:\n",
    "            left = mid\n",
    "    return left"
   ]
  },
  {
   "cell_type": "code",
   "execution_count": 2,
   "metadata": {},
   "outputs": [
    {
     "data": {
      "text/plain": [
       "3"
      ]
     },
     "execution_count": 2,
     "metadata": {},
     "output_type": "execute_result"
    }
   ],
   "source": [
    "mySqrt(9)"
   ]
  },
  {
   "cell_type": "markdown",
   "metadata": {},
   "source": [
    "# Summary\n",
    "\n",
    "- Using dichotomy method to find the square root of `x`;\n",
    "\n",
    "- In every iteration, find the (left) median of the left pointer and the right pointer, choosing the left median to ensure the iteration could end at last, otherwise the algorithm might skip the square root value;"
   ]
  },
  {
   "cell_type": "markdown",
   "metadata": {},
   "source": [
    "# Additional Knowledge\n",
    "\n",
    "- `//` is the floor division operation, for example: `7//3 = 2`;\n",
    "\n",
    "- `%` is the opeation to get the surplus of a division, for example: `7//3 = 1`."
   ]
  },
  {
   "cell_type": "code",
   "execution_count": null,
   "metadata": {},
   "outputs": [],
   "source": []
  }
 ],
 "metadata": {
  "kernelspec": {
   "display_name": "Python 3",
   "language": "python",
   "name": "python3"
  },
  "language_info": {
   "codemirror_mode": {
    "name": "ipython",
    "version": 3
   },
   "file_extension": ".py",
   "mimetype": "text/x-python",
   "name": "python",
   "nbconvert_exporter": "python",
   "pygments_lexer": "ipython3",
   "version": "3.7.5"
  }
 },
 "nbformat": 4,
 "nbformat_minor": 4
}
