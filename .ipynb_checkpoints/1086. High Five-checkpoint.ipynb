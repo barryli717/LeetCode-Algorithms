{
 "cells": [
  {
   "cell_type": "markdown",
   "metadata": {},
   "source": [
    "# Problem\n",
    "\n",
    "> Given a list of scores of different students, return the average score of each student's top five scores in the order of each student's id.\n",
    ">\n",
    "> Each entry `items[i]` has `items[i][0]` the student's id, and `items[i][1]` the student's score.  The average score is calculated using integer division.\n",
    "\n",
    " \n",
    "\n",
    "# Example\n",
    "\n",
    "```\n",
    "Input: [[1,91],[1,92],[2,93],[2,97],[1,60],[2,77],[1,65],[1,87],[1,100],[2,100],[2,76]]\n",
    "Output: [[1,87],[2,88]]\n",
    "Explanation: \n",
    "The average of the student with id = 1 is 87.\n",
    "The average of the student with id = 2 is 88.6. But with integer division their average converts to 88.\n",
    "```\n",
    "\n",
    "**Note:**\n",
    "\n",
    "1. 1 <= `items.length` <= 1000\n",
    "2. `items[i].length` == 2\n",
    "3. The IDs of the students is between 1 to 1000\n",
    "4. The score of the students is between 1 to 100\n",
    "5. For each student, there are at least 5 scores"
   ]
  },
  {
   "cell_type": "code",
   "execution_count": null,
   "metadata": {},
   "outputs": [],
   "source": [
    "def highFive(item):\n",
    "    from collections import defaultdict\n",
    "    d = defaultdict(list)\n",
    "    for i, score in items: # only add the top 5 into result\n",
    "        if len(d[i]) >= 5:\n",
    "            min_num = min(d[i]) \n",
    "            d[i].remove(min_num) # remove the minimum\n",
    "            d[i].append(max(score, min_num))\n",
    "        else:\n",
    "            d[i].append(score)  \n",
    "    return [[k, int(sum(v) / 5)] for k, v in d.items()]"
   ]
  }
 ],
 "metadata": {
  "kernelspec": {
   "display_name": "Python 3",
   "language": "python",
   "name": "python3"
  },
  "language_info": {
   "codemirror_mode": {
    "name": "ipython",
    "version": 3
   },
   "file_extension": ".py",
   "mimetype": "text/x-python",
   "name": "python",
   "nbconvert_exporter": "python",
   "pygments_lexer": "ipython3",
   "version": "3.7.5"
  }
 },
 "nbformat": 4,
 "nbformat_minor": 4
}
