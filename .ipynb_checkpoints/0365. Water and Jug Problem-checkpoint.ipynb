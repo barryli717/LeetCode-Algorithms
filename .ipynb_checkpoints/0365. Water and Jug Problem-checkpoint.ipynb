{
 "cells": [
  {
   "cell_type": "markdown",
   "metadata": {},
   "source": [
    "# Problem\n",
    "\n",
    "> You are given two jugs with capacities x and y litres. There is an infinite amount of water supply available. You need to > determine whether it is possible to measure exactly z litres using these two jugs.\n",
    ">\n",
    "> If z liters of water is measurable, you must have z liters of water contained within one or both buckets by the end.\n",
    ">\n",
    "> Operations allowed:\n",
    ">\n",
    "> Fill any of the jugs completely with water.\n",
    "> Empty any of the jugs.\n",
    "> Pour water from one jug into another till the other jug is completely full or the first jug itself is empty.\n",
    "\n",
    "# Example\n",
    "\n",
    "**Example 1:** (From the famous \"Die Hard\" example)\n",
    "\n",
    "```\n",
    "Input: x = 3, y = 5, z = 4\n",
    "Output: True\n",
    "```\n",
    "**Example 2:**\n",
    "```\n",
    "Input: x = 2, y = 6, z = 5\n",
    "Output: False\n",
    "```"
   ]
  },
  {
   "cell_type": "code",
   "execution_count": 5,
   "metadata": {},
   "outputs": [],
   "source": [
    "def canMeasureWater(x, y, z):\n",
    "    \"\"\"\n",
    "    :type x: int\n",
    "    :type y: int\n",
    "    :type z: int\n",
    "    :rtype: bool\n",
    "    \"\"\"\n",
    "    import math\n",
    "    if x + y < z:\n",
    "        return False\n",
    "    if x == 0 or y == 0:\n",
    "        return z == 0 or x + y == z\n",
    "    return z % math.gcd(x, y) == 0"
   ]
  },
  {
   "cell_type": "code",
   "execution_count": 6,
   "metadata": {},
   "outputs": [
    {
     "data": {
      "text/plain": [
       "True"
      ]
     },
     "execution_count": 6,
     "metadata": {},
     "output_type": "execute_result"
    }
   ],
   "source": [
    "canMeasureWater(3,4,5)"
   ]
  },
  {
   "cell_type": "markdown",
   "metadata": {},
   "source": [
    "# Summary\n",
    "\n",
    "- If `z` can be divided by the `gcd(x,y)`, then this problem is achievable;\n",
    "\n",
    "- `gcd(x,y)` finds the greatest common divisor of `x` and `y`."
   ]
  }
 ],
 "metadata": {
  "kernelspec": {
   "display_name": "Python 3",
   "language": "python",
   "name": "python3"
  },
  "language_info": {
   "codemirror_mode": {
    "name": "ipython",
    "version": 3
   },
   "file_extension": ".py",
   "mimetype": "text/x-python",
   "name": "python",
   "nbconvert_exporter": "python",
   "pygments_lexer": "ipython3",
   "version": "3.7.5"
  }
 },
 "nbformat": 4,
 "nbformat_minor": 4
}
