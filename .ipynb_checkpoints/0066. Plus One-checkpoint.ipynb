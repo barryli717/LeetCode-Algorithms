{
 "cells": [
  {
   "cell_type": "markdown",
   "metadata": {},
   "source": [
    "## Problem\n",
    "\n",
    "> Given a non-empty array of digits representing a non-negative integer, plus one to the integer.\n",
    ">\n",
    "> The digits are stored such that the most significant digit is at the head of the list, and each element in the array contain a single digit.\n",
    ">\n",
    "> You may assume the integer does not contain any leading zero, except the number 0 itself.\n",
    "\n",
    "**Example 1:**\n",
    "```\n",
    "Input: [1,2,3]\n",
    "Output: [1,2,4]\n",
    "Explanation: The array represents the integer 123.\n",
    "```\n",
    "\n",
    "**Example 2:**\n",
    "\n",
    "```\n",
    "Input: [4,3,2,1]\n",
    "Output: [4,3,2,2]\n",
    "Explanation: The array represents the integer 4321.\n",
    "```"
   ]
  },
  {
   "cell_type": "code",
   "execution_count": null,
   "metadata": {},
   "outputs": [],
   "source": [
    "def plusOne(digits):\n",
    "    intStr = \"\"\n",
    "    for i in range(len(digits)):\n",
    "        intStr = intStr + str(digits[i])\n",
    "    newInt = int(intStr) + 1\n",
    "    newStr = str(newInt)\n",
    "    newDigits = []\n",
    "    for i in range(len(newStr)):\n",
    "        newDigits.append(int(newStr[i]))\n",
    "    return newDigits"
   ]
  }
 ],
 "metadata": {
  "kernelspec": {
   "display_name": "Python 3",
   "language": "python",
   "name": "python3"
  },
  "language_info": {
   "codemirror_mode": {
    "name": "ipython",
    "version": 3
   },
   "file_extension": ".py",
   "mimetype": "text/x-python",
   "name": "python",
   "nbconvert_exporter": "python",
   "pygments_lexer": "ipython3",
   "version": "3.7.4"
  }
 },
 "nbformat": 4,
 "nbformat_minor": 2
}
