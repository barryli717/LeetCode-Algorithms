{
 "cells": [
  {
   "cell_type": "code",
   "execution_count": null,
   "metadata": {},
   "outputs": [],
   "source": []
  },
  {
   "cell_type": "code",
   "execution_count": null,
   "metadata": {},
   "outputs": [],
   "source": [
    "def missingNumber(nums):\n",
    "    nums.sort()\n",
    "\n",
    "    # Ensure that n is at the last index\n",
    "    if nums[-1] != len(nums):\n",
    "        return len(nums)\n",
    "    # Ensure that 0 is at the first index\n",
    "    elif nums[0] != 0:\n",
    "        return 0\n",
    "\n",
    "    # If we get here, then the missing number is on the range (0, n)\n",
    "    for i in range(1, len(nums)):\n",
    "        expected_num = nums[i-1] + 1\n",
    "        if nums[i] != expected_num:\n",
    "            return expected_num"
   ]
  }
 ],
 "metadata": {
  "kernelspec": {
   "display_name": "Python 3",
   "language": "python",
   "name": "python3"
  },
  "language_info": {
   "codemirror_mode": {
    "name": "ipython",
    "version": 3
   },
   "file_extension": ".py",
   "mimetype": "text/x-python",
   "name": "python",
   "nbconvert_exporter": "python",
   "pygments_lexer": "ipython3",
   "version": "3.7.5"
  }
 },
 "nbformat": 4,
 "nbformat_minor": 4
}
