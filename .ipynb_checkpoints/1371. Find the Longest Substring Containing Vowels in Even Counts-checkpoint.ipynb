{
 "cells": [
  {
   "cell_type": "markdown",
   "metadata": {},
   "source": [
    "# Problem\n",
    "\n",
    "> Given the string s, return the size of the longest substring containing each vowel an even number of times. That is, 'a', 'e', 'i', 'o', and 'u' must appear an even number of times.\n",
    "\n",
    " \n",
    "# Example\n",
    "\n",
    "**Example 1:**\n",
    "```\n",
    "Input: s = \"eleetminicoworoep\"\n",
    "Output: 13\n",
    "Explanation: The longest substring is \"leetminicowor\" which contains two each of the vowels: e, i and o and zero of the vowels: a and u.\n",
    "```\n",
    "**Example 2:**\n",
    "```\n",
    "Input: s = \"leetcodeisgreat\"\n",
    "Output: 5\n",
    "Explanation: The longest substring is \"leetc\" which contains two e's.\n",
    "```\n",
    "**Example 3:**\n",
    "```\n",
    "Input: s = \"bcbcbc\"\n",
    "Output: 6\n",
    "Explanation: In this case, the given string \"bcbcbc\" is the longest because all vowels: a, e, i, o and u appear zero times.\n",
    "```\n",
    "\n",
    "**Constraints:**\n",
    "\n",
    "- 1 <= s.length <= 5 x 10^5\n",
    "\n",
    "- s contains only lowercase English letters.\n"
   ]
  },
  {
   "cell_type": "code",
   "execution_count": 25,
   "metadata": {},
   "outputs": [],
   "source": [
    "def findTheLongestSubstring(s):\n",
    "    mapper = {\n",
    "            \"a\": 1,\n",
    "            \"e\": 2,\n",
    "            \"i\": 4,\n",
    "            \"o\": 8,\n",
    "            \"u\": 16\n",
    "        }\n",
    "    seen = {0: -1} # initialize with index -1\n",
    "    res = cur = 0\n",
    "\n",
    "    for i in range(len(s)):\n",
    "        if s[i] in mapper:\n",
    "            cur ^= mapper.get(s[i])\n",
    "\n",
    "        if cur in seen:\n",
    "            res = max(res, i - seen.get(cur))\n",
    "        else:\n",
    "            seen[cur] = i\n",
    "    return res"
   ]
  },
  {
   "cell_type": "code",
   "execution_count": 26,
   "metadata": {},
   "outputs": [],
   "source": [
    "s = \"leetcode\""
   ]
  },
  {
   "cell_type": "code",
   "execution_count": 27,
   "metadata": {},
   "outputs": [
    {
     "data": {
      "text/plain": [
       "5"
      ]
     },
     "execution_count": 27,
     "metadata": {},
     "output_type": "execute_result"
    }
   ],
   "source": [
    "findTheLongestSubstring(s)"
   ]
  },
  {
   "cell_type": "markdown",
   "metadata": {},
   "source": [
    "# Summary\n",
    "\n",
    "- Notice that we only need to consider the parity of vowels for the substrings, consider to use binary code to store the parity of occurance for each vowel (1 = odd, 0 = even);\n",
    "\n",
    "- There are total 32 (2^5) possible combinations of parity for each vowel, so we use a 5-digit binary number `cur` to represent the parity of vowels in the substring which ends in `s[i]`;\n",
    "\n",
    "    - Example: `10110` means the subtring contains even numbers of `a` and `o`, odd numbers of `e`, `i`, and `u`;\n",
    "    \n",
    "- Use XOR `^` operator to conduct bitwise operation on `cur`:\n",
    "\n",
    "    - If `s[i]` is a vowel (in `mapper`), e.g `s[i] == a`:\n",
    "    \n",
    "        - If `a` has appered for even times, `cur = cur ^ mapper.get('a') == 1`;\n",
    "        \n",
    "        - If `a` has appered for odd times, `cur = cur ^ mapper.get('a') == 0`;\n",
    "        \n",
    "    - If `s[i]` is not a vowel, `cur` doesn't change;\n",
    "    \n",
    "- If `cur` exists in the `seen`, e.g `seen.get(cur) == 2`, current `i == 5`:\n",
    "\n",
    "    - This means that `s[2:5]` is a substring that have odd number of all vowels;\n",
    "\n",
    "        - This is because `s[:2]` and `s[:5]` have the same parity (same `cur`), therefore the vowels in `s[2:5]` must appear for even times (`odd - odd = odd, even - even = odd`);\n",
    "\n",
    "    - Therefore, update `res = max(res, i - seen.get(cur))`, get the longest substring length;\n",
    "\n",
    "- If `cur` doesn't exist in `seen`, record the current index in `seen`: `seen[cur] = i`;"
   ]
  },
  {
   "cell_type": "markdown",
   "metadata": {},
   "source": [
    "# Additional Knowledge - Bitwise Operation\n",
    "\n",
    "> e.g `a = 60`, `b = 13`;\n",
    ">\n",
    "> The binary form of `a` and `b`: `a = 0011 1100`, `b = 0000 1101`;\n",
    "\n",
    "- `&`: bitwise AND operator\n",
    " \n",
    "    - If the two corresponding bits are 1, the result of the bit is 1, otherwise it is 0;\n",
    "    \n",
    "    - `a & b = 0000 1100`;\n",
    "    \n",
    "-  `|`: bitwise OR operator\n",
    "\n",
    "    - As long as one of the corresponding two binary digits is 1, the result bit is 1;\n",
    "    \n",
    "    - `a|b = 0011 1101`;\n",
    "    \n",
    "- `^`: bitwise XOR operator\n",
    "\n",
    "    - When two corresponding binary are different, the result is 1;\n",
    "    \n",
    "    - `a^b = 0011 0001`;\n",
    "    \n",
    "- `~`: bitwise inversion operator\n",
    "\n",
    "    -  Inverts each binary bit of the data, that is, changes 1 to 0 and 0 to 1;\n",
    "    \n",
    "    - `~a  = 1100 0011`;\n",
    "    \n",
    "- `<<`: left shift operator\n",
    "\n",
    "    - All binary digits of the operand are all shifted to the left by several digits;\n",
    "    \n",
    "    - `a << 2 = 1111 0000`;\n",
    "    \n",
    "- `>>`: right shift operator\n",
    "\n",
    "    - Shift all binary digits of the operand on the left side of \">>\" to the right by several digits;\n",
    "    \n",
    "    - `a >> 2 = 0000 1111`;"
   ]
  },
  {
   "cell_type": "code",
   "execution_count": null,
   "metadata": {},
   "outputs": [],
   "source": []
  }
 ],
 "metadata": {
  "kernelspec": {
   "display_name": "Python 3",
   "language": "python",
   "name": "python3"
  },
  "language_info": {
   "codemirror_mode": {
    "name": "ipython",
    "version": 3
   },
   "file_extension": ".py",
   "mimetype": "text/x-python",
   "name": "python",
   "nbconvert_exporter": "python",
   "pygments_lexer": "ipython3",
   "version": "3.7.5"
  }
 },
 "nbformat": 4,
 "nbformat_minor": 4
}
