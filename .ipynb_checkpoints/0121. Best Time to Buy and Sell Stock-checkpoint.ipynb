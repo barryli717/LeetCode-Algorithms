{
 "cells": [
  {
   "cell_type": "markdown",
   "metadata": {},
   "source": [
    "# Problem \n",
    "\n",
    "> Say you have an array for which the ith element is the price of a given stock on day i.\n",
    ">\n",
    "> If you were only permitted to complete at most one transaction (i.e., buy one and sell one share of the stock), design an algorithm to find the maximum profit.\n",
    ">\n",
    "> Note that you cannot sell a stock before you buy one.\n",
    "\n",
    "\n",
    "# Example \n",
    "\n",
    "**Example 1:**\n",
    "```\n",
    "Input: [7,1,5,3,6,4]\n",
    "Output: 5\n",
    "Explanation: \n",
    " Buy on day 2 (price = 1) and sell on day 5 (price = 6), profit = 6-1 = 5.\n",
    " Not 7-1 = 6, as selling price needs to be larger than buying price.\n",
    "```\n",
    "**Example 2:**\n",
    "```\n",
    "Input: [7,6,4,3,1]\n",
    "Output: 0\n",
    "Explanation: In this case, no transaction is done, i.e. max profit = 0.\n",
    "```"
   ]
  },
  {
   "cell_type": "code",
   "execution_count": 1,
   "metadata": {},
   "outputs": [],
   "source": [
    "def maxProfit1(price):\n",
    "    rev = 0\n",
    "    for i in range(len(price)):\n",
    "        for j in range(i+1, len(price)):\n",
    "            if price[j] - price[i] > rev:\n",
    "                rev = price[j] - price[i]\n",
    "            else:\n",
    "                continue\n",
    "    return rev"
   ]
  },
  {
   "cell_type": "code",
   "execution_count": 2,
   "metadata": {},
   "outputs": [],
   "source": [
    "def maxProfit2(prices):\n",
    "    if not prices:\n",
    "        return 0\n",
    "    min_p = prices[0]\n",
    "    rev = 0\n",
    "    for p in prices:\n",
    "        if p > min_p:\n",
    "            rev = max(rev, p-buy)\n",
    "        else:\n",
    "            min_p = p\n",
    "    return rev"
   ]
  },
  {
   "cell_type": "markdown",
   "metadata": {},
   "source": [
    "# Summary\n",
    "\n",
    "- The `maxProfit1` is brute force method, cannot pass test due to run time error.\n",
    "\n",
    "- In the `maxProfit2`, the core thought is to define `min_p`, which is the minimum price in the prices, and find the maximum price after the minimum price. During this process, compare the difference between min price and current price with `rev`, thus to find the maximum `rev`.\n",
    "\n",
    "- Note that the optimal buy-in time not always equals to the minimum price, but we can get the maximum revenue while we are searching the minimum price."
   ]
  },
  {
   "cell_type": "code",
   "execution_count": null,
   "metadata": {},
   "outputs": [],
   "source": []
  }
 ],
 "metadata": {
  "kernelspec": {
   "display_name": "Python 3",
   "language": "python",
   "name": "python3"
  },
  "language_info": {
   "codemirror_mode": {
    "name": "ipython",
    "version": 3
   },
   "file_extension": ".py",
   "mimetype": "text/x-python",
   "name": "python",
   "nbconvert_exporter": "python",
   "pygments_lexer": "ipython3",
   "version": "3.7.5"
  }
 },
 "nbformat": 4,
 "nbformat_minor": 4
}
