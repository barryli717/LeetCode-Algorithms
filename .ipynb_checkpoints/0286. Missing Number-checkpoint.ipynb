{
 "cells": [
  {
   "cell_type": "markdown",
   "metadata": {},
   "source": [
    "# Problem\n",
    ">Given an array containing n distinct numbers taken from 0, 1, 2, ..., n, find the one that is missing from the array.\n",
    "\n",
    "# Example\n",
    "**Example 1:**\n",
    "```\n",
    "Input: [3,0,1]\n",
    "Output: 2\n",
    "```\n",
    "**Example 2:**\n",
    "```\n",
    "Input: [9,6,4,2,3,5,7,0,1]\n",
    "Output: 8\n",
    "```"
   ]
  },
  {
   "cell_type": "code",
   "execution_count": null,
   "metadata": {},
   "outputs": [],
   "source": [
    "def missingNumber(nums):\n",
    "    nums.sort()\n",
    "\n",
    "    # Ensure that n is at the last index\n",
    "    if nums[-1] != len(nums):\n",
    "        return len(nums)\n",
    "    # Ensure that 0 is at the first index\n",
    "    elif nums[0] != 0:\n",
    "        return 0\n",
    "\n",
    "    # If we get here, then the missing number is on the range (0, n)\n",
    "    for i in range(1, len(nums)):\n",
    "        expected_num = nums[i-1] + 1\n",
    "        if nums[i] != expected_num:\n",
    "            return expected_num"
   ]
  }
 ],
 "metadata": {
  "kernelspec": {
   "display_name": "Python 3",
   "language": "python",
   "name": "python3"
  },
  "language_info": {
   "codemirror_mode": {
    "name": "ipython",
    "version": 3
   },
   "file_extension": ".py",
   "mimetype": "text/x-python",
   "name": "python",
   "nbconvert_exporter": "python",
   "pygments_lexer": "ipython3",
   "version": "3.7.5"
  }
 },
 "nbformat": 4,
 "nbformat_minor": 4
}
