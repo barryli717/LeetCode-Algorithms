{
 "cells": [
  {
   "cell_type": "markdown",
   "metadata": {},
   "source": [
    "# Problem\n",
    "\n",
    ">Given a non-negative index k where k ≤ 33, return the kth index row of the Pascal's triangle.\n",
    ">\n",
    ">Note that the row index starts from 0.\n",
    ">\n",
    ">In Pascal's triangle, each number is the sum of the two numbers directly above it.\n",
    "\n",
    "# Example:\n",
    "```\n",
    "Input: 3\n",
    "Output: [1,3,3,1]\n",
    "```"
   ]
  },
  {
   "cell_type": "code",
   "execution_count": 1,
   "metadata": {},
   "outputs": [],
   "source": [
    "def getRow(rowIndex):\n",
    "    if rowIndex == 0:\n",
    "        return [1]\n",
    "    ans = [1]\n",
    "    for i in range(1, (rowIndex)//2+1):\n",
    "        ans.append(ans[i-1]*(rowIndex-i+1)//i)\n",
    "    if rowIndex%2 ==0:\n",
    "        return ans + ans[:-1][::-1]\n",
    "    else:\n",
    "        return ans + ans[::-1]"
   ]
  },
  {
   "cell_type": "markdown",
   "metadata": {},
   "source": [
    "# Summary\n",
    "\n",
    "- The trick of this algorithm is to find the characteristics of each row in the triangle. \n",
    "\n",
    "- Notice that there are `i//2 + 1` elements in row `i`.\n",
    "\n",
    "- The elements in the n-th row of Pascal's triangle are the polynomial coefficients of $(1+x)^n$, which have a general formula $C^{m-1}_{n-1} = (n-1)!/[(m-1)!(n-m)!]$ for the m-th element in the n-th row.\n",
    "\n",
    "- Thus we can write the relationship of adjacent elements like this: $x(n,i+1) = x(n,i)*(n-i)/i$, which corresponds to the line 6. Take `//i` would keep the elements in `ans` as integers (`/i` would return a float).\n",
    "\n",
    "- There are `rowIndex//2 + 1` number of unique elements in the `rowIndex`-th row. Each row is symmetric, thus we could reverse the `ans` and combine with original `ans` to get the result."
   ]
  },
  {
   "cell_type": "code",
   "execution_count": 2,
   "metadata": {},
   "outputs": [
    {
     "data": {
      "text/plain": [
       "[1, 6, 15, 20, 15, 6, 1]"
      ]
     },
     "execution_count": 2,
     "metadata": {},
     "output_type": "execute_result"
    }
   ],
   "source": [
    "getRow(6)"
   ]
  },
  {
   "cell_type": "markdown",
   "metadata": {},
   "source": [
    "# Additional Knowledge\n",
    "\n",
    "1. Additon of lists.\n",
    "\n",
    "```\n",
    "[1, 6, 15, 20]+[1, 6, 15, 20][::-1]\n",
    "\n",
    "output:\n",
    "[1, 6, 15, 20, 20, 15, 6, 1]\n",
    "```\n",
    "\n",
    "2. Modulus.\n",
    "\n",
    "```\n",
    "5%2\n",
    "\n",
    "Output:\n",
    "1\n",
    "```\n",
    "\n",
    "3. Floor.\n",
    "\n",
    "```\n",
    "5//2\n",
    "\n",
    "Output:\n",
    "2\n",
    "```"
   ]
  },
  {
   "cell_type": "code",
   "execution_count": null,
   "metadata": {},
   "outputs": [],
   "source": []
  }
 ],
 "metadata": {
  "kernelspec": {
   "display_name": "Python 3",
   "language": "python",
   "name": "python3"
  },
  "language_info": {
   "codemirror_mode": {
    "name": "ipython",
    "version": 3
   },
   "file_extension": ".py",
   "mimetype": "text/x-python",
   "name": "python",
   "nbconvert_exporter": "python",
   "pygments_lexer": "ipython3",
   "version": "3.7.5"
  }
 },
 "nbformat": 4,
 "nbformat_minor": 4
}
