{
 "cells": [
  {
   "cell_type": "markdown",
   "metadata": {},
   "source": [
    "# Problem\n",
    "\n",
    "> Given an array of integers, find if the array contains any duplicates.\n",
    "> \n",
    "> Your function should return true if any value appears at least twice in the array, and it should return false if every element is distinct.\n",
    "\n",
    "# Example\n",
    "\n",
    "**Example 1:**\n",
    "```\n",
    "Input: [1,2,3,1]\n",
    "Output: true\n",
    "```\n",
    "\n",
    "**Example 2:**\n",
    "```\n",
    "Input: [1,2,3,4]\n",
    "Output: false\n",
    "```\n",
    "\n",
    "**Example 3:**\n",
    "```\n",
    "Input: [1,1,1,3,3,4,3,2,4,2]\n",
    "Output: true\n",
    "```"
   ]
  },
  {
   "cell_type": "code",
   "execution_count": 1,
   "metadata": {},
   "outputs": [],
   "source": [
    "def containsDuplicate(nums):\n",
    "    return len(nums) != len(set(nums))"
   ]
  },
  {
   "cell_type": "code",
   "execution_count": 2,
   "metadata": {},
   "outputs": [],
   "source": [
    "def containsDuplicate(nums):\n",
    "    hash={}\n",
    "    for i in range(len(nums)):\n",
    "        if(nums[i] not in hash):\n",
    "            hash[nums[i]]=1\n",
    "        else:\n",
    "            return True\n",
    "    return False"
   ]
  },
  {
   "cell_type": "code",
   "execution_count": 3,
   "metadata": {},
   "outputs": [],
   "source": [
    "def containsDuplicate(nums):\n",
    "    n=len(nums)\n",
    "    if(n==0 or n==1):\n",
    "        return False\n",
    "    nums.sort()\n",
    "    for i in range(1,n):\n",
    "        if(nums[i]==nums[i-1]):\n",
    "            return True\n",
    "    return False"
   ]
  },
  {
   "cell_type": "markdown",
   "metadata": {},
   "source": [
    "# Summary\n",
    "\n",
    "1. Compare the array and set of the array elements;\n",
    "\n",
    "2. Hash table, if certain key occurred before, return `True`, else `False`;\n",
    "\n",
    "3. If contigent elements in a sorted array are the same, return `True`;"
   ]
  },
  {
   "cell_type": "code",
   "execution_count": null,
   "metadata": {},
   "outputs": [],
   "source": []
  }
 ],
 "metadata": {
  "kernelspec": {
   "display_name": "Python 3",
   "language": "python",
   "name": "python3"
  },
  "language_info": {
   "codemirror_mode": {
    "name": "ipython",
    "version": 3
   },
   "file_extension": ".py",
   "mimetype": "text/x-python",
   "name": "python",
   "nbconvert_exporter": "python",
   "pygments_lexer": "ipython3",
   "version": "3.7.5"
  }
 },
 "nbformat": 4,
 "nbformat_minor": 4
}
