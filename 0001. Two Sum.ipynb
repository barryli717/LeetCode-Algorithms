{
 "cells": [
  {
   "cell_type": "markdown",
   "metadata": {},
   "source": [
    "# Problem\n",
    "\n",
    "> Given an array of integers, return **indices** of the two numbers such that they add up to a specific target.\n",
    ">\n",
    "> You may assume that each input would have **exactly** one solution, and you may not use the same element twice.\n",
    "\n",
    "\n",
    "# Example:\n",
    "\n",
    "```\n",
    "Given nums = [2, 7, 11, 15], target = 9,\n",
    "\n",
    "Because nums[0] + nums[1] = 2 + 7 = 9,\n",
    "return [0, 1].\n",
    "```"
   ]
  },
  {
   "cell_type": "code",
   "execution_count": 1,
   "metadata": {},
   "outputs": [],
   "source": [
    "def twoSum(nums, target):\n",
    "    h = {}\n",
    "    for index, number in enumerate(nums):\n",
    "        comp = target - number\n",
    "        if comp not in h:\n",
    "            h[number] = index\n",
    "        else:\n",
    "            return[h[comp], index]"
   ]
  },
  {
   "cell_type": "markdown",
   "metadata": {},
   "source": [
    "# Summary\n",
    "\n",
    "- We initialized a dictionary in line 2 to store the position of the two numbers.\n",
    "\n",
    "\n",
    "- In every iteration of the `for` loop, we firstly get the compensate number (`target - number`) of current number. Then we make a judgement whether the `comp` is already in the `h`:\n",
    "\n",
    "    a. If `comp` is not in `h`, we put the position of current number (`index`) into `h`, and we can index this position by `h[number]` since `h` is a dictionary.\n",
    "       \n",
    "    b. If `comp` is already in `h`, which means that current number could pair a previous number to get the `target`, thus we could `return` the position of current number and the certain previous number. To get the position of the compensate number, we use `h[comp]` to index its position."
   ]
  },
  {
   "cell_type": "markdown",
   "metadata": {},
   "source": [
    "# Additional Knowledge\n",
    "\n",
    "A `dictionary` is a collection which is unordered, changeable and indexed. In Python dictionaries are written with curly brackets, and they have keys and values.\n",
    "\n",
    "<br/>\n",
    "\n",
    "**Example:**\n",
    "\n",
    "- Create and print a dictionary\n",
    "\n",
    "``` python\n",
    "dict = {\n",
    "  \"brand\": \"Ford\",\n",
    "  \"model\": \"Mustang\",\n",
    "  \"year\": 1964\n",
    "}\n",
    "print(dict)\n",
    "```\n",
    "\n",
    "- Get values from `dict`\n",
    "\n",
    "``` python\n",
    "x = dict[\"model\"]\n",
    "```\n",
    "\n",
    "- Change values\n",
    "\n",
    "``` python\n",
    "dict[\"year\"] = 2019\n",
    "```\n",
    "\n",
    "- Print all key names\n",
    "\n",
    "``` python\n",
    "for x in dict:\n",
    "    print(x)\n",
    "```\n",
    "\n",
    "- Print all values\n",
    "\n",
    "``` python\n",
    "for x in dict:\n",
    "    print(dict[x])\n",
    "```\n",
    "\n",
    "- remove items\n",
    "\n",
    "``` python\n",
    "dict.pop(\"model\")\n",
    "```"
   ]
  },
  {
   "cell_type": "markdown",
   "metadata": {},
   "source": [
    "The `enmuerate()` function is a built-in function in Python to help us keep a count of iterations.\n",
    "\n",
    "<br/>\n",
    "\n",
    "```\n",
    "enumerate(iterable, start=0)\n",
    "\n",
    "Parameters:\n",
    "Iterable: any object that supports iteration\n",
    "Start: the index value from which the counter is to be started, by default it is 0 \n",
    "```"
   ]
  },
  {
   "cell_type": "code",
   "execution_count": 2,
   "metadata": {},
   "outputs": [],
   "source": [
    "# test\n",
    "nums = [2, 7, 11, 15]\n",
    "target = 9"
   ]
  },
  {
   "cell_type": "code",
   "execution_count": 3,
   "metadata": {},
   "outputs": [
    {
     "data": {
      "text/plain": [
       "[0, 1]"
      ]
     },
     "execution_count": 3,
     "metadata": {},
     "output_type": "execute_result"
    }
   ],
   "source": [
    "twoSum(nums, target)"
   ]
  }
 ],
 "metadata": {
  "kernelspec": {
   "display_name": "Python 3",
   "language": "python",
   "name": "python3"
  },
  "language_info": {
   "codemirror_mode": {
    "name": "ipython",
    "version": 3
   },
   "file_extension": ".py",
   "mimetype": "text/x-python",
   "name": "python",
   "nbconvert_exporter": "python",
   "pygments_lexer": "ipython3",
   "version": "3.7.5"
  }
 },
 "nbformat": 4,
 "nbformat_minor": 4
}
