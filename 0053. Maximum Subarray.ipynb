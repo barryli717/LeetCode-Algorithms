{
 "cells": [
  {
   "cell_type": "markdown",
   "metadata": {},
   "source": [
    "# Problem\n",
    "\n",
    "> Given an integer array nums, find the contiguous subarray (containing at least one number) which has the largest sum and return its sum.\n",
    "\n",
    "# Example:\n",
    "\n",
    "```\n",
    "Input: [-2,1,-3,4,-1,2,1,-5,4],\n",
    "Output: 6\n",
    "Explanation: [4,-1,2,1] has the largest sum = 6.\n",
    "```\n",
    "\n",
    "**Follow up:**\n",
    "\n",
    "If you have figured out the O(n) solution, try coding another solution using the divide and conquer approach, which is more subtle."
   ]
  },
  {
   "cell_type": "code",
   "execution_count": 1,
   "metadata": {},
   "outputs": [],
   "source": [
    "def maxSubArray(nums):\n",
    "    if len(nums) == 0:\n",
    "        return None\n",
    "    result = nums[0]\n",
    "    tmp = 0\n",
    "\n",
    "    for val in nums:\n",
    "        tmp += val\n",
    "        if tmp < val:\n",
    "            tmp = val\n",
    "        if result < tmp:\n",
    "            result = tmp\n",
    "\n",
    "    return result"
   ]
  },
  {
   "cell_type": "markdown",
   "metadata": {},
   "source": [
    "# Summary\n",
    "\n",
    "- This is a Dynamic Programming problem. We initialize `result` to store the result, and `tmp` to store the current maximum subarray in line 4-5.\n",
    "\n",
    "- In the `for` loop, if we find `tmp + val < val`, then the `tmp` has no incremental effect, then `tmp` is replaced by `val`. Otherwise, the `tmp` becomes `tmp + val`. Stimultaneously, the `result` keeps the maximum `tmp` ever exists.\n",
    "\n",
    "- The running time of this algorithm is $O(n)$."
   ]
  },
  {
   "cell_type": "code",
   "execution_count": null,
   "metadata": {},
   "outputs": [],
   "source": []
  }
 ],
 "metadata": {
  "kernelspec": {
   "display_name": "Python 3",
   "language": "python",
   "name": "python3"
  },
  "language_info": {
   "codemirror_mode": {
    "name": "ipython",
    "version": 3
   },
   "file_extension": ".py",
   "mimetype": "text/x-python",
   "name": "python",
   "nbconvert_exporter": "python",
   "pygments_lexer": "ipython3",
   "version": "3.7.5"
  }
 },
 "nbformat": 4,
 "nbformat_minor": 4
}
