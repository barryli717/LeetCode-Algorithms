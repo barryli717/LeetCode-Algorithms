{
 "cells": [
  {
   "cell_type": "markdown",
   "metadata": {},
   "source": [
    "# Problem\n",
    "\n",
    ">Given a list of words and two words word1 and word2, return the shortest distance between these two words in the list.\n",
    "\n",
    "\n",
    "# Example\n",
    "\n",
    "- Assume that words = [\"practice\", \"makes\", \"perfect\", \"coding\", \"makes\"].\n",
    "\n",
    "\n",
    "```\n",
    "Input: word1 = “coding”, word2 = “practice”\n",
    "Output: 3\n",
    "```\n",
    "```\n",
    "Input: word1 = \"makes\", word2 = \"coding\"\n",
    "Output: 1\n",
    "```\n",
    "\n",
    "**Note:**\n",
    "You may assume that word1 does not equal to word2, and word1 and word2 are both in the list."
   ]
  },
  {
   "cell_type": "code",
   "execution_count": 8,
   "metadata": {},
   "outputs": [],
   "source": [
    "def ShortesetDistance (words, word1, word2):\n",
    "    pos1, pos2 = -1, -1\n",
    "    minDist = len(words)\n",
    "    for i in range(len(words)):\n",
    "        if words[i] == word1:\n",
    "            pos1 = i\n",
    "        elif words[i] == word2:\n",
    "            pos2 = i \n",
    "        if pos1 != -1 and pos2 != -1:\n",
    "            minDist = min(minDist, abs(pos1 - pos2))\n",
    "    return minDist"
   ]
  },
  {
   "cell_type": "code",
   "execution_count": 9,
   "metadata": {},
   "outputs": [],
   "source": [
    "words = [\"practice\", \"makes\", \"perfect\", \"coding\", \"makes\"]\n",
    "word1 = \"coding\"\n",
    "word2 = \"practice\""
   ]
  },
  {
   "cell_type": "code",
   "execution_count": 10,
   "metadata": {},
   "outputs": [
    {
     "data": {
      "text/plain": [
       "3"
      ]
     },
     "execution_count": 10,
     "metadata": {},
     "output_type": "execute_result"
    }
   ],
   "source": [
    "ShortesetDistance(words, word1, word2)"
   ]
  },
  {
   "cell_type": "markdown",
   "metadata": {},
   "source": [
    "# Summary\n",
    "\n",
    "- Initialize the position indexes to both `-1`;\n",
    "\n",
    "- Traverse the string list and update the positions if found the matched words, return the minimum distance;"
   ]
  },
  {
   "cell_type": "code",
   "execution_count": null,
   "metadata": {},
   "outputs": [],
   "source": []
  }
 ],
 "metadata": {
  "kernelspec": {
   "display_name": "Python 3",
   "language": "python",
   "name": "python3"
  },
  "language_info": {
   "codemirror_mode": {
    "name": "ipython",
    "version": 3
   },
   "file_extension": ".py",
   "mimetype": "text/x-python",
   "name": "python",
   "nbconvert_exporter": "python",
   "pygments_lexer": "ipython3",
   "version": "3.7.5"
  }
 },
 "nbformat": 4,
 "nbformat_minor": 4
}
