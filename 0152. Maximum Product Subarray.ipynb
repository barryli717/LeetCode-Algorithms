{
 "cells": [
  {
   "cell_type": "markdown",
   "metadata": {},
   "source": [
    "# Problem\n",
    "\n",
    "> Given an integer array nums, find the contiguous subarray within an array (containing at least one number) which has the largest product.\n",
    "\n",
    "\n",
    "# Example\n",
    "\n",
    "**Example 1:**\n",
    "```\n",
    "Input: [2,3,-2,4]\n",
    "Output: 6\n",
    "Explanation: [2,3] has the largest product 6.\n",
    "```\n",
    "\n",
    "**Example 2:**\n",
    "```\n",
    "Input: [-2,0,-1]\n",
    "Output: 0\n",
    "Explanation: The result cannot be 2, because [-2,-1] is not a subarray.\n",
    "```\n"
   ]
  },
  {
   "cell_type": "code",
   "execution_count": 6,
   "metadata": {},
   "outputs": [],
   "source": [
    "def maxProduct(nums):\n",
    "    max_val = -float(\"inf\")\n",
    "    imax = 0\n",
    "    imin = 0\n",
    "    for i in range(len(nums)):\n",
    "        if nums[i] < 0:\n",
    "            tmp = imax\n",
    "            imax = imin\n",
    "            imin = tmp\n",
    "        imax = max(imax*nums[i], nums[i])\n",
    "        imin = min(imin*nums[i], nums[i])\n",
    "        max_val = max(max_val, imax)\n",
    "        \n",
    "    return max_val"
   ]
  },
  {
   "cell_type": "code",
   "execution_count": 9,
   "metadata": {},
   "outputs": [],
   "source": [
    "nums = [-2,0,-1]"
   ]
  },
  {
   "cell_type": "code",
   "execution_count": 10,
   "metadata": {},
   "outputs": [
    {
     "data": {
      "text/plain": [
       "0"
      ]
     },
     "execution_count": 10,
     "metadata": {},
     "output_type": "execute_result"
    }
   ],
   "source": [
    "maxProduct(nums)"
   ]
  },
  {
   "cell_type": "markdown",
   "metadata": {},
   "source": [
    "# Summary\n",
    "\n",
    "- Basically it's a dynamic programming problem;\n",
    "\n",
    "- Initially let's assume all numbers are positive. Then the product value of the subarray ends in `nums[i]` reaches maximum if and only if the product value of the subarray which ends in `nums[i-1]` is maximum;\n",
    "\n",
    "- `imax` is the local maximum subarray product in which the subarray ends in the `i`-th number, we just need to compare the previous `imax` multiply current number and the value of current number to get current number's `imax`. `max` records the maximum subarray product value;\n",
    "\n",
    "- But we have to consider when current number is negative, therefore it's posible to create a max `imax` with the minimum product value for previous subarray. We also need to keep the min subarray product which is `imin` just in case.\n",
    "\n",
    "- If current number is negative, swap `imax` and `imin`, then enter the original operations."
   ]
  },
  {
   "cell_type": "code",
   "execution_count": null,
   "metadata": {},
   "outputs": [],
   "source": []
  }
 ],
 "metadata": {
  "kernelspec": {
   "display_name": "Python 3",
   "language": "python",
   "name": "python3"
  },
  "language_info": {
   "codemirror_mode": {
    "name": "ipython",
    "version": 3
   },
   "file_extension": ".py",
   "mimetype": "text/x-python",
   "name": "python",
   "nbconvert_exporter": "python",
   "pygments_lexer": "ipython3",
   "version": "3.7.5"
  }
 },
 "nbformat": 4,
 "nbformat_minor": 4
}
