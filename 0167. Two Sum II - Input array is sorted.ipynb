{
 "cells": [
  {
   "cell_type": "markdown",
   "metadata": {},
   "source": [
    "# Problem\n",
    "\n",
    "> Given an array of integers that is already sorted in ascending order, find two numbers such that they add up to a specific target number.\n",
    ">\n",
    "> The function twoSum should return indices of the two numbers such that they add up to the target, where index1 must be less than index2.\n",
    "\n",
    "**Note:**\n",
    "\n",
    "- Your returned answers (both index1 and index2) are not zero-based.\n",
    "\n",
    "- You may assume that each input would have exactly one solution and you may not use the same element twice.\n",
    "\n",
    "**Example:**\n",
    "```\n",
    "Input: numbers = [2,7,11,15], target = 9\n",
    "Output: [1,2]\n",
    "Explanation: The sum of 2 and 7 is 9. Therefore index1 = 1, index2 = 2.\n",
    "```"
   ]
  },
  {
   "cell_type": "code",
   "execution_count": null,
   "metadata": {},
   "outputs": [],
   "source": [
    "def twoSum(numbers, target):\n",
    "    if(not numbers):\n",
    "        return []\n",
    "    res=[]\n",
    "    n=len(numbers)\n",
    "    l=0\n",
    "    r=n-1\n",
    "    while(l<r):\n",
    "        if(numbers[l]+numbers[r]==target):\n",
    "            return [l+1,r+1]\n",
    "        elif(numbers[l]+numbers[r]>target):\n",
    "            r=r-1\n",
    "        else:\n",
    "            l=l+1\n",
    "    return [-1,-1]"
   ]
  }
 ],
 "metadata": {
  "kernelspec": {
   "display_name": "Python 3",
   "language": "python",
   "name": "python3"
  },
  "language_info": {
   "codemirror_mode": {
    "name": "ipython",
    "version": 3
   },
   "file_extension": ".py",
   "mimetype": "text/x-python",
   "name": "python",
   "nbconvert_exporter": "python",
   "pygments_lexer": "ipython3",
   "version": "3.7.5"
  }
 },
 "nbformat": 4,
 "nbformat_minor": 4
}
