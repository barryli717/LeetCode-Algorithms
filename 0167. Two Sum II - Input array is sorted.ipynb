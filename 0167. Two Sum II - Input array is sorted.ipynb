{
 "cells": [
  {
   "cell_type": "markdown",
   "metadata": {},
   "source": [
    "# Problem\n",
    "\n",
    "> Given an array of integers that is already sorted in ascending order, find two numbers such that they add up to a specific target number.\n",
    ">\n",
    "> The function twoSum should return indices of the two numbers such that they add up to the target, where index1 must be less than index2.\n",
    "\n",
    "**Note:**\n",
    "\n",
    "- Your returned answers (both index1 and index2) are not zero-based.\n",
    "\n",
    "- You may assume that each input would have exactly one solution and you may not use the same element twice.\n",
    "\n",
    "# Example:\n",
    "\n",
    "```\n",
    "Input: numbers = [2,7,11,15], target = 9\n",
    "Output: [1,2]\n",
    "Explanation: The sum of 2 and 7 is 9. Therefore index1 = 1, index2 = 2.\n",
    "```"
   ]
  },
  {
   "cell_type": "code",
   "execution_count": 12,
   "metadata": {},
   "outputs": [],
   "source": [
    "def twoSum(numbers, target):\n",
    "    if(not numbers):\n",
    "        return []\n",
    "    res=[]\n",
    "    n=len(numbers)\n",
    "    l=0\n",
    "    r=n-1\n",
    "    while(l<r):\n",
    "        if(numbers[l]+numbers[r]==target):\n",
    "            return [l+1,r+1]\n",
    "        elif(numbers[l]+numbers[r]>target):\n",
    "            r=r-1\n",
    "        else:\n",
    "            l=l+1\n",
    "    return [-1,-1]"
   ]
  },
  {
   "cell_type": "markdown",
   "metadata": {},
   "source": [
    "# Double pointers\n",
    "\n",
    "- If the array $A$ is empty, return `[]`;\n",
    "\n",
    "- Define a left pointer $l = 0$ to point at the minimum element, and a right pointer $r = n-1$ to point at the maximum element;\n",
    "\n",
    "- During the iterations ($l<r$):\n",
    "    - If `A[l] + A[r] == target`, return `[l+1, r+1]`;\n",
    "    - If `A[l] + A[r] > target`, which means the right one is too large, then set `r = r-1`;\n",
    "    - IF `A[l] + A[r] < target`, which means the left one is too small, then set `l = l+1`;\n",
    "    \n",
    "- After the iterations, if there is no result, then this problem is unsolvable, return `[-1,-1]`;\n",
    "\n",
    "- Time complexity: $O(n)$, traverse each element at most once;\n",
    "\n",
    "- Space complexity: $O(1)$, store 2 elements;"
   ]
  },
  {
   "cell_type": "code",
   "execution_count": 7,
   "metadata": {},
   "outputs": [],
   "source": [
    "def twoSum(nums, target):\n",
    "    dict={}\n",
    "    for i in range(len(nums)):\n",
    "        if(nums[i] in dict):\n",
    "            return [dict[nums[i]]+1, i+1]\n",
    "        else:\n",
    "            dict[target-nums[i]]=i\n",
    "    return False"
   ]
  },
  {
   "cell_type": "markdown",
   "metadata": {},
   "source": [
    "# Hash table\n",
    "\n",
    "- During traversing the array, let `target - A[i]` as key, `i` as value;\n",
    "\n",
    "- Then we just need to judge whether `A[i]` is in the `dict`, and return `[dict[A[i]+1, i+1]` if so (return the indices);\n",
    "\n",
    "- If there is no such pair, return `False`;"
   ]
  },
  {
   "cell_type": "code",
   "execution_count": 13,
   "metadata": {},
   "outputs": [],
   "source": [
    "nums = [2,7,11,15]"
   ]
  },
  {
   "cell_type": "code",
   "execution_count": 14,
   "metadata": {},
   "outputs": [
    {
     "data": {
      "text/plain": [
       "[1, 2]"
      ]
     },
     "execution_count": 14,
     "metadata": {},
     "output_type": "execute_result"
    }
   ],
   "source": [
    "twoSum(nums, 9)"
   ]
  },
  {
   "cell_type": "code",
   "execution_count": null,
   "metadata": {},
   "outputs": [],
   "source": []
  }
 ],
 "metadata": {
  "kernelspec": {
   "display_name": "Python 3",
   "language": "python",
   "name": "python3"
  },
  "language_info": {
   "codemirror_mode": {
    "name": "ipython",
    "version": 3
   },
   "file_extension": ".py",
   "mimetype": "text/x-python",
   "name": "python",
   "nbconvert_exporter": "python",
   "pygments_lexer": "ipython3",
   "version": "3.7.5"
  }
 },
 "nbformat": 4,
 "nbformat_minor": 4
}
