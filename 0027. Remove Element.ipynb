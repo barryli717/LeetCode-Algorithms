{
 "cells": [
  {
   "cell_type": "markdown",
   "metadata": {},
   "source": [
    "# Problem\n",
    "> Given an array nums and a value val, remove all instances of that value in-place and return the new length.\n",
    ">\n",
    "> Do not allocate extra space for another array, you must do this **by modifying the input array** in-place with $O(1)$ extra memory.\n",
    ">\n",
    "> The order of elements can be changed. It doesn't matter what you leave beyond the new length.\n",
    "\n",
    "# Example\n",
    "```\n",
    "Given nums = [3,2,2,3], val = 3,\n",
    "\n",
    "Your function should return length = 2, with the first two elements of nums being 2.\n",
    "\n",
    "It doesn't matter what you leave beyond the returned length.\n",
    "```\n",
    "```\n",
    "Given nums = [0,1,2,2,3,0,4,2], val = 2,\n",
    "\n",
    "Your function should return length = 5, with the first five elements of nums containing 0, 1, 3, 0, and 4.\n",
    "\n",
    "Note that the order of those five elements can be arbitrary.\n",
    "\n",
    "It doesn't matter what values are set beyond the returned length.\n",
    "```"
   ]
  },
  {
   "cell_type": "code",
   "execution_count": 1,
   "metadata": {},
   "outputs": [],
   "source": [
    "def removeElement(nums, val):\n",
    "    counter = 0\n",
    "    for p in range(len(nums)):\n",
    "        if nums[p] != val:\n",
    "            nums[counter] = nums[p]\n",
    "            counter = counter + 1\n",
    "    return counter"
   ]
  },
  {
   "cell_type": "markdown",
   "metadata": {},
   "source": [
    "# Summary\n",
    "\n",
    "- In line 2, we initialized a counter.\n",
    "\n",
    "- In the `for` loop, every time we find a number not equal to the target value `val`, do: \n",
    "\n",
    "    a. Move the number `num[p]` to the current position.\n",
    "    \n",
    "    b. Add `counter` by 1.\n",
    "    \n",
    "- Return the `counter` as the length.\n",
    "\n",
    "<br/>\n",
    "\n",
    "**Few notes:**\n",
    "\n",
    "- This algorithm is similar to the 26.RemoveDuplicates case, in this case we need to scan every elements, but in the RemoveDuplicates case we need to compare all following elements with current element.\n",
    "\n",
    "- We can subset the `num` with length of `counter - 1` to get the new array which has removed the target element."
   ]
  },
  {
   "cell_type": "code",
   "execution_count": 2,
   "metadata": {},
   "outputs": [],
   "source": [
    "num = [1,2,3,3,4,5,5]\n",
    "val = 3"
   ]
  },
  {
   "cell_type": "code",
   "execution_count": 3,
   "metadata": {},
   "outputs": [
    {
     "data": {
      "text/plain": [
       "5"
      ]
     },
     "execution_count": 3,
     "metadata": {},
     "output_type": "execute_result"
    }
   ],
   "source": [
    "removeElement(num, val)\n",
    "# num[:removeElement(num, val)]"
   ]
  },
  {
   "cell_type": "markdown",
   "metadata": {},
   "source": [
    "# A Simple Approach"
   ]
  },
  {
   "cell_type": "code",
   "execution_count": 4,
   "metadata": {},
   "outputs": [],
   "source": [
    "def removeElement2(nums, val):\n",
    "    for i in range(len(nums))[::-1]:\n",
    "        if nums[i] == val:\n",
    "            del nums[i]\n",
    "    return len(nums)"
   ]
  },
  {
   "cell_type": "code",
   "execution_count": 5,
   "metadata": {},
   "outputs": [],
   "source": [
    "num2 = [1,2,3,3,4,5,5]\n",
    "val2 = 3"
   ]
  },
  {
   "cell_type": "code",
   "execution_count": 6,
   "metadata": {},
   "outputs": [
    {
     "data": {
      "text/plain": [
       "5"
      ]
     },
     "execution_count": 6,
     "metadata": {},
     "output_type": "execute_result"
    }
   ],
   "source": [
    "removeElement2(num2, val2)"
   ]
  },
  {
   "cell_type": "code",
   "execution_count": null,
   "metadata": {},
   "outputs": [],
   "source": []
  }
 ],
 "metadata": {
  "kernelspec": {
   "display_name": "Python 3",
   "language": "python",
   "name": "python3"
  },
  "language_info": {
   "codemirror_mode": {
    "name": "ipython",
    "version": 3
   },
   "file_extension": ".py",
   "mimetype": "text/x-python",
   "name": "python",
   "nbconvert_exporter": "python",
   "pygments_lexer": "ipython3",
   "version": "3.7.5"
  }
 },
 "nbformat": 4,
 "nbformat_minor": 4
}
